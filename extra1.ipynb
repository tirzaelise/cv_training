{
  "nbformat": 4,
  "nbformat_minor": 0,
  "metadata": {
    "colab": {
      "name": "extra1.ipynb",
      "provenance": [],
      "collapsed_sections": []
    },
    "kernelspec": {
      "name": "python3",
      "display_name": "Python 3"
    },
    "accelerator": "GPU"
  },
  "cells": [
    {
      "cell_type": "code",
      "metadata": {
        "id": "cUh3O_gnFdlq",
        "colab_type": "code",
        "colab": {}
      },
      "source": [
        "import torch\n",
        "import torch.nn as nn\n",
        "import torchvision\n",
        "import torchvision.transforms as transforms\n",
        "from torch.utils.data import sampler"
      ],
      "execution_count": 0,
      "outputs": []
    },
    {
      "cell_type": "code",
      "metadata": {
        "id": "iR9NDY7mHlli",
        "colab_type": "code",
        "colab": {
          "base_uri": "https://localhost:8080/",
          "height": 51
        },
        "outputId": "2b2a0a6a-383d-49a2-8ac4-09e0c8cbd7fb"
      },
      "source": [
        "# Device configuration\n",
        "device = torch.device('cuda' if torch.cuda.is_available() else 'cpu')\n",
        "\n",
        "# Hyper-parameters\n",
        "num_epochs = 80\n",
        "batch_size = 100\n",
        "learning_rate = 0.001\n",
        "\n",
        "NUM_TRAIN = 49000\n",
        "\n",
        "# Image preprocessing modules\n",
        "transform = transforms.Compose([\n",
        "    transforms.Pad(4),\n",
        "    transforms.RandomHorizontalFlip(),\n",
        "    transforms.RandomCrop(32),\n",
        "    transforms.ToTensor()])\n",
        "\n",
        "# CIFAR-10 dataset\n",
        "train_dataset = torchvision.datasets.CIFAR10(root='../../data/',\n",
        "                                             train=True, \n",
        "                                             transform=transform,\n",
        "                                             download=True)\n",
        "\n",
        "test_dataset = torchvision.datasets.CIFAR10(root='../../data/',\n",
        "                                            train=False, \n",
        "                                            transform=transforms.ToTensor())\n",
        "\n",
        "\n",
        "val_dataset = torchvision.datasets.CIFAR10(root='../../data', \n",
        "                                          train=True,\n",
        "                                           download=True,\n",
        "                                           transform=transform)\n",
        "\n",
        "# Data loader\n",
        "train_loader = torch.utils.data.DataLoader(dataset=train_dataset,\n",
        "                                           batch_size=batch_size,\n",
        "                                           sampler=sampler.SubsetRandomSampler(range(NUM_TRAIN)))\n",
        "\n",
        "test_loader = torch.utils.data.DataLoader(dataset=test_dataset,\n",
        "                                          batch_size=batch_size,\n",
        "                                          shuffle=False)\n",
        "val_loader = torch.utils.data.DataLoader(dataset=val_dataset, \n",
        "                                         batch_size=batch_size, \n",
        "                                         sampler=sampler.SubsetRandomSampler(range(NUM_TRAIN, 50000)))\n"
      ],
      "execution_count": 3,
      "outputs": [
        {
          "output_type": "stream",
          "text": [
            "Files already downloaded and verified\n",
            "Files already downloaded and verified\n"
          ],
          "name": "stdout"
        }
      ]
    },
    {
      "cell_type": "markdown",
      "metadata": {
        "id": "3CAxbF_cDZh1",
        "colab_type": "text"
      },
      "source": [
        "# ResNet\n",
        "\n",
        "Read about residual networks: https://arxiv.org/abs/1512.03385\n",
        "\n",
        "Residual Networks are implemented to combat the vanishing gradient problem, as deeper networks are more difficult to train. Therefore, a reference to the previous layer is used to compute the output at a given layer. In ResNet, the output from the previous layer, called residual, is added to the output of the current layer.\n",
        "\n",
        "## Part 1. Residual Block\n",
        "\n",
        "Implement a residual block.\n",
        "\n"
      ]
    },
    {
      "cell_type": "code",
      "metadata": {
        "id": "tLTFl-J1EXxA",
        "colab_type": "code",
        "colab": {}
      },
      "source": [
        "class ResidualBlock(nn.Module):\n",
        "    def __init__(self, in_channels, out_channels, stride=1, downsample=None):\n",
        "        super(ResidualBlock, self).__init__()\n",
        "        raise NotImplementedError()\n",
        "        \n",
        "    def forward(self, x):\n",
        "        raise NotImplementedError()"
      ],
      "execution_count": 0,
      "outputs": []
    },
    {
      "cell_type": "markdown",
      "metadata": {
        "id": "uGi908ZkGVqX",
        "colab_type": "text"
      },
      "source": [
        "## Part 2. 3x3 convolution\n",
        "\n",
        "Use nn.Conv2d() to implement a 3x3 convolution."
      ]
    },
    {
      "cell_type": "code",
      "metadata": {
        "id": "fe8gSuU6FN3E",
        "colab_type": "code",
        "colab": {}
      },
      "source": [
        "def conv3x3(in_channels, out_channels, stride):\n",
        "  raise NotImplementedError()"
      ],
      "execution_count": 0,
      "outputs": []
    },
    {
      "cell_type": "markdown",
      "metadata": {
        "id": "Pwrm9f1pGxgB",
        "colab_type": "text"
      },
      "source": [
        "## Part 3. ResNet\n",
        "\n",
        "Implement ResNet using your ResidualBlock."
      ]
    },
    {
      "cell_type": "code",
      "metadata": {
        "id": "Jqh8ImZHDRsx",
        "colab_type": "code",
        "colab": {}
      },
      "source": [
        "class ResNet(nn.Module):\n",
        "    def __init__(self, block, layers, num_classes=10):\n",
        "        super(ResNet, self).__init__()\n",
        "\n",
        "        raise NotImplementedError()\n",
        "        \n",
        "    def make_layer(self, block, out_channels, blocks, stride=1):\n",
        "        raise NotImplementedError()\n",
        "    \n",
        "    def forward(self, x):\n",
        "        raise NotImplementedError()\n",
        "        "
      ],
      "execution_count": 0,
      "outputs": []
    },
    {
      "cell_type": "code",
      "metadata": {
        "id": "kr8o-_1TGuqV",
        "colab_type": "code",
        "colab": {}
      },
      "source": [
        "def train():\n",
        "  raise NotImplementedError()"
      ],
      "execution_count": 0,
      "outputs": []
    },
    {
      "cell_type": "code",
      "metadata": {
        "id": "vXnsb14THRvE",
        "colab_type": "code",
        "colab": {}
      },
      "source": [
        "def evaluate():\n",
        "  raise NotImplementedError()"
      ],
      "execution_count": 0,
      "outputs": []
    },
    {
      "cell_type": "markdown",
      "metadata": {
        "id": "OqEj4rgKKgJJ",
        "colab_type": "text"
      },
      "source": [
        "Evaluate your model on the test set and report the accuracy."
      ]
    },
    {
      "cell_type": "code",
      "metadata": {
        "id": "Mb8bTQEgKlaC",
        "colab_type": "code",
        "colab": {}
      },
      "source": [
        ""
      ],
      "execution_count": 0,
      "outputs": []
    }
  ]
}